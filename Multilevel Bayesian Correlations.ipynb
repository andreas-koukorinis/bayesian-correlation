{
 "cells": [
  {
   "cell_type": "markdown",
   "metadata": {},
   "source": [
    "# Multilevel Bayesian Correlations"
   ]
  },
  {
   "cell_type": "code",
   "execution_count": 1,
   "metadata": {
    "collapsed": false
   },
   "outputs": [],
   "source": [
    "import numpy as np\n",
    "import pandas as pd\n",
    "import scipy\n",
    "import matplotlib.pyplot as plt\n",
    "import seaborn as sb\n",
    "import pystan\n",
    "\n",
    "%matplotlib inline\n",
    "sb.set()"
   ]
  },
  {
   "cell_type": "code",
   "execution_count": 2,
   "metadata": {
    "collapsed": false
   },
   "outputs": [
    {
     "data": {
      "text/plain": [
       "'\\n1) Pearson correlation + stan code + fit\\n- ensure data is normalized? w/ bayesian fit needs to be zscored?\\n2) Spearman (mu is always 0.5)\\n3) Multilevel pearson w/ diagram\\n4) Multilevel spearman\\n5) Robust correlations w/ t distribution (should probs only use w/ pearson?)\\n'"
      ]
     },
     "execution_count": 2,
     "metadata": {},
     "output_type": "execute_result"
    }
   ],
   "source": [
    "'''\n",
    "1) Pearson correlation + stan code + fit\n",
    "- ensure data is normalized? w/ bayesian fit needs to be zscored?\n",
    "2) Spearman (mu is always 0.5)\n",
    "3) Multilevel pearson w/ diagram\n",
    "4) Multilevel spearman\n",
    "5) Robust correlations w/ t distribution (should probs only use w/ pearson?)\n",
    "'''"
   ]
  },
  {
   "cell_type": "markdown",
   "metadata": {},
   "source": [
    "The Pearson correlation coefficient ($\\rho$) is a measure of how correlated two variables are (e.g. $X_1$ and $X_2$), and is the ratio of the true covariance of the two variables to their expected covariance if they were perfectly correlated:\n",
    "\n",
    "$$\n",
    "\\rho_{X_1,X_2} = \\frac{\\text{cov}(X_1,X_2)}{\\sigma_{X_1} \\sigma_{X_2}}\n",
    "$$\n",
    "\n",
    "where\n",
    "* $\\text{cov}(X_1, X_2)$ is the covariance between $X_1$ and $X_2$\n",
    "* $\\sigma_{X_1}$ is the standard deviation of $X_1$, and \n",
    "* $\\sigma_{X_2}$ is the standard deviation of $X_2$"
   ]
  },
  {
   "cell_type": "code",
   "execution_count": 3,
   "metadata": {
    "collapsed": false
   },
   "outputs": [
    {
     "data": {
      "image/png": "[encoded data removed]",
      "text/plain": [
       "<matplotlib.figure.Figure at 0x7fff7cca74a8>"
      ]
     },
     "metadata": {},
     "output_type": "display_data"
    }
   ],
   "source": [
    "# Create some dummy data with known correlation\n",
    "X = np.zeros((20,2))\n",
    "X[:,0] = np.linspace(0, 20, 20)\n",
    "X[:,1] = X[:,0] + np.random.randn(20)\n",
    "\n",
    "# Plot dummy data\n",
    "plt.figure()\n",
    "plt.plot(X[:,0], X[:,1], '.')\n",
    "plt.show()"
   ]
  },
  {
   "cell_type": "markdown",
   "metadata": {},
   "source": [
    "Description of how to build bayesian model of a correlation"
   ]
  },
  {
   "cell_type": "code",
   "execution_count": 4,
   "metadata": {
    "collapsed": true
   },
   "outputs": [],
   "source": [
    "#STAN code string for the basic pearson correlation model"
   ]
  },
  {
   "cell_type": "code",
   "execution_count": 5,
   "metadata": {
    "collapsed": false
   },
   "outputs": [
    {
     "name": "stderr",
     "output_type": "stream",
     "text": [
      "INFO:pystan:COMPILING THE C++ CODE FOR MODEL anon_model_e2abdd52e6a64f20ad4ce1185e7cab48 NOW.\n",
      "/home/redish/haszx010/.local/lib/python3.6/site-packages/pystan/misc.py:399: FutureWarning: Conversion of the second argument of issubdtype from `float` to `np.floating` is deprecated. In future, it will be treated as `np.float64 == np.dtype(float).type`.\n",
      "  elif np.issubdtype(np.asarray(v).dtype, float):\n"
     ]
    }
   ],
   "source": [
    "# Data for Stan\n",
    "data = {'N' : X.shape[0], #number of datapoints\n",
    "        'X' : X} #the data\n",
    "\n",
    "# Fit the model\n",
    "model = pystan.StanModel(file='PearsonCorrelation.stan')\n",
    "fit = model.sampling(data=data, iter=200, chains=5, n_jobs=1)"
   ]
  },
  {
   "cell_type": "code",
   "execution_count": 6,
   "metadata": {
    "collapsed": false
   },
   "outputs": [
    {
     "name": "stdout",
     "output_type": "stream",
     "text": [
      "Inference for Stan model: anon_model_e2abdd52e6a64f20ad4ce1185e7cab48.\n",
      "5 chains, each with iter=200; warmup=100; thin=1; \n",
      "post-warmup draws per chain=100, total post-warmup draws=500.\n",
      "\n",
      "         mean se_mean     sd   2.5%    25%    50%    75%  97.5%  n_eff   Rhat\n",
      "mu[0]   10.15    0.16   1.42   7.45    9.2  10.12  10.99  12.88     74   1.04\n",
      "mu[1]   10.34    0.17    1.4   7.65   9.43  10.31   11.1  13.09     72   1.04\n",
      "sig[0]   6.58    0.09   1.24   4.82   5.71   6.42   7.21   9.25    193    1.0\n",
      "sig[1]   6.48    0.09   1.21   4.71    5.6   6.36   7.07   9.22    192   1.01\n",
      "rho      0.98  5.8e-4 9.3e-3   0.96   0.98   0.98   0.99   0.99    260    1.0\n",
      "T[0,0]  44.81    1.46  18.67  23.19  32.55  41.19  51.93  85.48    164   1.01\n",
      "T[1,0]  43.34    1.42  18.14  22.31  30.87  39.84  50.25  83.26    163   1.01\n",
      "T[0,1]  43.34    1.42  18.14  22.31  30.87  39.84  50.25  83.26    163   1.01\n",
      "T[1,1]  43.46    1.39  17.86  22.14  31.32  40.43  49.98  85.06    165   1.01\n",
      "lp__   -59.97    0.14   1.58 -64.12 -60.83  -59.6 -58.86 -57.78    132   1.03\n",
      "\n",
      "Samples were drawn using NUTS at Fri May 25 00:15:54 2018.\n",
      "For each parameter, n_eff is a crude measure of effective sample size,\n",
      "and Rhat is the potential scale reduction factor on split chains (at \n",
      "convergence, Rhat=1).\n"
     ]
    }
   ],
   "source": [
    "# Print the results of the fit\n",
    "print(fit)"
   ]
  },
  {
   "cell_type": "code",
   "execution_count": 7,
   "metadata": {
    "collapsed": true
   },
   "outputs": [],
   "source": [
    "# Get the MCMC samples (draws from the posterior distribution)\n",
    "samples = fit.extract()"
   ]
  },
  {
   "cell_type": "code",
   "execution_count": 8,
   "metadata": {
    "collapsed": false
   },
   "outputs": [
    {
     "data": {
      "image/png": "[encoded data removed]",
      "text/plain": [
       "<matplotlib.figure.Figure at 0x7fff794049e8>"
      ]
     },
     "metadata": {},
     "output_type": "display_data"
    }
   ],
   "source": [
    "# Plot the posterior distribution for the correlation coefficient\n",
    "plt.figure()\n",
    "sb.distplot(samples['rho'])\n",
    "plt.xlabel('Pearson Correlation Coefficient')\n",
    "plt.ylabel('Probability')\n",
    "plt.show()"
   ]
  }
 ],
 "metadata": {
  "kernelspec": {
   "display_name": "Python 3.6",
   "language": "python",
   "name": "python36"
  },
  "language_info": {
   "codemirror_mode": {
    "name": "ipython",
    "version": 3
   },
   "file_extension": ".py",
   "mimetype": "text/x-python",
   "name": "python",
   "nbconvert_exporter": "python",
   "pygments_lexer": "ipython3",
   "version": "3.6.3"
  }
 },
 "nbformat": 4,
 "nbformat_minor": 1
}
